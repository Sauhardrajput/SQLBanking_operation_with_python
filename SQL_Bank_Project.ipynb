{
 "cells": [
  {
   "cell_type": "markdown",
   "id": "81f3f8ee",
   "metadata": {},
   "source": [
    "#  Banking Administration System"
   ]
  },
  {
   "cell_type": "markdown",
   "id": "c52bdbcd",
   "metadata": {},
   "source": [
    "#### importing mysql connector libraries  "
   ]
  },
  {
   "cell_type": "code",
   "execution_count": 1,
   "id": "17568005",
   "metadata": {},
   "outputs": [],
   "source": [
    "import mysql.connector as r"
   ]
  },
  {
   "cell_type": "code",
   "execution_count": 2,
   "id": "91f0d759",
   "metadata": {},
   "outputs": [
    {
     "name": "stdout",
     "output_type": "stream",
     "text": [
      "Successfully connected\n"
     ]
    }
   ],
   "source": [
    "Dbase = r.connect(host=\"localhost\",user=\"root\",password=\"Sau@123\",auth_plugin='mysql_native_password')\n",
    "#check for connection\n",
    "if Dbase.is_connected():\n",
    "    print(\"Successfully connected\")\n",
    "else:\n",
    "    print(\"Not connected\")"
   ]
  },
  {
   "cell_type": "markdown",
   "id": "9c86bf47",
   "metadata": {},
   "source": [
    "#### Connecting with mysql database"
   ]
  },
  {
   "cell_type": "code",
   "execution_count": null,
   "id": "e9776819",
   "metadata": {},
   "outputs": [],
   "source": [
    "Dbase = r.connect(host=\"localhost\",user=\"root\",password=\"Nb2742538@\",auth_plugin='mysql_native_password')\n",
    "#check for connection\n",
    "if Dbase.is_connected():\n",
    "    print(\"Successfully connected\")\n",
    "else:\n",
    "    print(\"Not connected\")"
   ]
  },
  {
   "cell_type": "markdown",
   "id": "735a63ce",
   "metadata": {},
   "source": [
    "#### Making mysql cursor in python "
   ]
  },
  {
   "cell_type": "code",
   "execution_count": 3,
   "id": "5aa95ab2",
   "metadata": {},
   "outputs": [],
   "source": [
    "cursor = Dbase.cursor()"
   ]
  },
  {
   "cell_type": "markdown",
   "id": "eb0765eb",
   "metadata": {},
   "source": [
    "#### Create database name with Banking Administration System"
   ]
  },
  {
   "cell_type": "code",
   "execution_count": null,
   "id": "c00b7fd4",
   "metadata": {},
   "outputs": [],
   "source": [
    "cursor.execute(\"Create database Bank_Administration\")"
   ]
  },
  {
   "cell_type": "code",
   "execution_count": 4,
   "id": "98c7160a",
   "metadata": {},
   "outputs": [],
   "source": [
    "cursor.execute(\"Use Bank_Administration\")"
   ]
  },
  {
   "cell_type": "markdown",
   "id": "3681a943",
   "metadata": {},
   "source": [
    "#### Create two tables Bankbalance_Amount"
   ]
  },
  {
   "cell_type": "code",
   "execution_count": null,
   "id": "2f5e019b",
   "metadata": {},
   "outputs": [],
   "source": [
    "\n",
    "cursor.execute(\"Create table Bank_Account(customer_Accountno varchar(15) primary key,customer_Name varchar(30),DOB varchar(10),Address varchar(50),Phone_no varchar(10),Opening_balance int)\")"
   ]
  },
  {
   "cell_type": "code",
   "execution_count": null,
   "id": "de7d2f1b",
   "metadata": {},
   "outputs": [],
   "source": [
    "cursor.execute(\"Create table bank_balance(customer_Accountno varchar(15) primary key,User_Name varchar(30), Balance int)\")"
   ]
  },
  {
   "cell_type": "markdown",
   "id": "0e162131",
   "metadata": {},
   "source": [
    "#### Make functions for Bank like - \n",
    "1.open_Account, 2.deposit_amount, 3.withdraw_amount, 4.check_balance, 5.display details of user, 6.close an account "
   ]
  },
  {
   "cell_type": "code",
   "execution_count": 5,
   "id": "2331ed95",
   "metadata": {},
   "outputs": [
    {
     "name": "stdout",
     "output_type": "stream",
     "text": [
      "\n",
      "    1.Open New Account\n",
      "    2.deposit account\n",
      "    3.withdraw amount\n",
      "    4.balance check\n",
      "    5.display details of user\n",
      "    6.close an account\n",
      "    \n",
      "Enter Task number: 1\n",
      "Enter name:Raman\n",
      "Enter account no:4022685943\n",
      "Enter DOB:10/02/2002\n",
      "Enter address:Noida\n",
      "Enter phone:7054678345\n",
      "Enter opening balance:1000\n",
      "Data Entered successfully\n",
      "\n",
      "    1.Open New Account\n",
      "    2.deposit account\n",
      "    3.withdraw amount\n",
      "    4.balance check\n",
      "    5.display details of user\n",
      "    6.close an account\n",
      "    \n",
      "Enter Task number: 7\n",
      "Give Wrong input please enter right input\n"
     ]
    }
   ],
   "source": [
    "def open_account():\n",
    "    name = input(\"Enter name:\")\n",
    "    account_no = input(\"Enter account no:\")\n",
    "    dob = input(\"Enter DOB:\")\n",
    "    address = input(\"Enter address:\")\n",
    "    phone = input(\"Enter phone:\")\n",
    "    open_bal = int(input(\"Enter opening balance:\"))\n",
    "    data1 = (account_no,name,dob,address,phone,open_bal)\n",
    "    data2 = (account_no,name,open_bal)\n",
    "    sql1 = \"insert into Bank_Account values(%s,%s,%s,%s,%s,%s)\"\n",
    "    sql2 = \"insert into  bank_balance values(%s,%s,%s)\" \n",
    "    cursor = Dbase.cursor()\n",
    "    cursor.execute(sql1,data1)\n",
    "    cursor.execute(sql2,data2)\n",
    "    Dbase.commit()\n",
    "    print(\"Data Entered successfully\")\n",
    "    program()\n",
    "\n",
    "def deposit_amount():\n",
    "    amount = int(input(\"Enter amount:\"))   \n",
    "    an = input(\"Enter account no:\")\n",
    "    a = \"select balance from  bank_balance where customer_Accountno=%s\"\n",
    "    data = (an,)\n",
    "    cursor = Dbase.cursor()\n",
    "    cursor.execute(a,data)\n",
    "    result = cursor.fetchone()\n",
    "    t = result[0]+amount\n",
    "    sql = \"update  bank_balance set balance=%s where customer_Accountno=%s\"\n",
    "    data = (t,an)\n",
    "    cursor.execute(sql,data)\n",
    "    Dbase.commit()\n",
    "    program()\n",
    "\n",
    "def withdraw_amount():\n",
    "    amount = int(input(\"Enter amount:\"))   \n",
    "    an = input(\"Enter account no:\")\n",
    "    a = \"select balance from bank_balance where customer_Accountno=%s\"\n",
    "    data = (an,)\n",
    "    cursor = Dbase.cursor()\n",
    "    cursor.execute(a,data)\n",
    "    result = cursor.fetchone()\n",
    "    t = result[0]-amount\n",
    "    sql = \"update  bank_balance set balance=%s where customer_Accountno=%s\"\n",
    "    data = (t,an)\n",
    "    cursor.execute(sql,data)\n",
    "    Dbase.commit()\n",
    "    program()\n",
    "    \n",
    "    \n",
    "#ac = account_number \n",
    "def check_balance():\n",
    "    ac = input(\"Enter account no:\")\n",
    "    a = \"select balance from  bank_balance where customer_Accountno=%s\"\n",
    "    data = (ac,)\n",
    "    cursor = Dbase.cursor()\n",
    "    cursor.execute(a,data)\n",
    "    result = cursor.fetchone()\n",
    "    print(\"Balance for Account:\",ac,\"is\",result[0])\n",
    "    program()\n",
    "\n",
    "\n",
    "\n",
    "def display_user_details():\n",
    "    ac = input(\"Enter account no:\")\n",
    "    a = \"select * from  bank_balance where customer_Accountno=%s\"\n",
    "    data = (ac,)\n",
    "    cursor = Dbase.cursor()\n",
    "    cursor.execute(a,data)\n",
    "    result = cursor.fetchone()\n",
    "    for i in result:\n",
    "        print(i,end=\" \")  \n",
    "    program()\n",
    "\n",
    "\n",
    "def close_account():\n",
    "    ac = input(\"Enter account no:\")\n",
    "    sql1 = \"delete from  Bank_Account where customer_Accountno=%s\"\n",
    "    sql2= \"delete from  bank_balance where customer_Accountno=%s\"\n",
    "    data = (ac,)\n",
    "    cursor = Dbase.cursor()\n",
    "    cursor.execute(sql1,data)\n",
    "    cursor.execute(sql2,data)\n",
    "    Dbase.commit()\n",
    "    program()\n",
    "    \n",
    "def program():\n",
    "    print(\"\"\"\n",
    "    1.Open New Account\n",
    "    2.deposit account\n",
    "    3.withdraw amount\n",
    "    4.balance check\n",
    "    5.display details of user\n",
    "    6.close an account\n",
    "    \"\"\")\n",
    "    choice = int(input(\"Enter Task number: \"))\n",
    "    if(choice==1):\n",
    "        open_account()\n",
    "    elif(choice==2):\n",
    "        deposit_amount()\n",
    "    elif(choice==3):\n",
    "        withdraw_amount()\n",
    "    elif(choice==4):\n",
    "        check_balance()\n",
    "    elif(choice==5):\n",
    "        display_user_details()\n",
    "    elif(choice==6):\n",
    "        close_account()\n",
    "    else:\n",
    "        print(\"Give Wrong input please enter right input\")\n",
    "program()"
   ]
  },
  {
   "cell_type": "markdown",
   "id": "e31513d2",
   "metadata": {},
   "source": [
    "#### To show all results from first table and second table "
   ]
  },
  {
   "cell_type": "code",
   "execution_count": 6,
   "id": "a70ac55b",
   "metadata": {},
   "outputs": [
    {
     "name": "stdout",
     "output_type": "stream",
     "text": [
      "('20013314562', 'Shubh', '04/03/2002', 'Delhi', '7054672312', 2000)\n",
      "('20013345678', 'Ujjwal', '03/02/2000', 'Delhi', '6394843376', 2500)\n",
      "('2001554683', 'Varun', '10/05/2001', 'Agra', '6394843372', 1200)\n",
      "('4022678956', 'Sauhard', '08/02/2001', 'Noida', '7067453424', 1000)\n",
      "('4022685943', 'Raman', '10/02/2002', 'Noida', '7054678345', 1000)\n",
      "('4022788734', 'Rohan', '08/02/2003', 'Greater Noida', '7056789456', 1000)\n"
     ]
    }
   ],
   "source": [
    "cursor.execute(\"select * from Bank_Account\")\n",
    "for i in cursor:\n",
    "    print(i)"
   ]
  },
  {
   "cell_type": "code",
   "execution_count": 7,
   "id": "59eb4da5",
   "metadata": {
    "scrolled": true
   },
   "outputs": [
    {
     "name": "stdout",
     "output_type": "stream",
     "text": [
      "('20013314562', 'Shubh', 2000)\n",
      "('20013345678', 'Ujjwal', 2500)\n",
      "('2001554683', 'Varun', 1200)\n",
      "('4022678956', 'Sauhard', 1000)\n",
      "('4022685943', 'Raman', 1000)\n",
      "('4022788734', 'Rohan', 0)\n"
     ]
    }
   ],
   "source": [
    "cursor.execute(\"select * from bank_balance\")\n",
    "for i in cursor:\n",
    "    print(i)"
   ]
  },
  {
   "cell_type": "markdown",
   "id": "c47cd4a5",
   "metadata": {},
   "source": [
    "#### Withdraw amount from any account "
   ]
  },
  {
   "cell_type": "code",
   "execution_count": 8,
   "id": "56b74cda",
   "metadata": {},
   "outputs": [
    {
     "name": "stdout",
     "output_type": "stream",
     "text": [
      "\n",
      "    1.Open New Account\n",
      "    2.deposit account\n",
      "    3.withdraw amount\n",
      "    4.balance check\n",
      "    5.display details of user\n",
      "    6.close an account\n",
      "    \n",
      "Enter Task number: 3\n",
      "Enter amount:500\n",
      "Enter account no:2001554683\n",
      "\n",
      "    1.Open New Account\n",
      "    2.deposit account\n",
      "    3.withdraw amount\n",
      "    4.balance check\n",
      "    5.display details of user\n",
      "    6.close an account\n",
      "    \n",
      "Enter Task number: 7\n",
      "Give Wrong input please enter right input\n"
     ]
    }
   ],
   "source": [
    "program()"
   ]
  },
  {
   "cell_type": "markdown",
   "id": "141857ba",
   "metadata": {},
   "source": [
    "#### After withdraw result"
   ]
  },
  {
   "cell_type": "code",
   "execution_count": 9,
   "id": "23899bf5",
   "metadata": {},
   "outputs": [
    {
     "name": "stdout",
     "output_type": "stream",
     "text": [
      "('20013314562', 'Shubh', 2000)\n",
      "('20013345678', 'Ujjwal', 2500)\n",
      "('2001554683', 'Varun', 700)\n",
      "('4022678956', 'Sauhard', 1000)\n",
      "('4022685943', 'Raman', 1000)\n",
      "('4022788734', 'Rohan', 0)\n"
     ]
    }
   ],
   "source": [
    "cursor.execute(\"select * from bank_balance\")\n",
    "for i in cursor:\n",
    "    print(i)"
   ]
  },
  {
   "cell_type": "markdown",
   "id": "5c84ccaf",
   "metadata": {},
   "source": [
    "#### Check balance"
   ]
  },
  {
   "cell_type": "code",
   "execution_count": 10,
   "id": "4abce32f",
   "metadata": {},
   "outputs": [
    {
     "name": "stdout",
     "output_type": "stream",
     "text": [
      "\n",
      "    1.Open New Account\n",
      "    2.deposit account\n",
      "    3.withdraw amount\n",
      "    4.balance check\n",
      "    5.display details of user\n",
      "    6.close an account\n",
      "    \n",
      "Enter Task number: 4\n",
      "Enter account no:2001554683\n",
      "Balance for Account: 2001554683 is 700\n",
      "\n",
      "    1.Open New Account\n",
      "    2.deposit account\n",
      "    3.withdraw amount\n",
      "    4.balance check\n",
      "    5.display details of user\n",
      "    6.close an account\n",
      "    \n",
      "Enter Task number: 7\n",
      "Give Wrong input please enter right input\n"
     ]
    }
   ],
   "source": [
    "program()"
   ]
  },
  {
   "cell_type": "markdown",
   "id": "512afc8a",
   "metadata": {},
   "source": [
    "#### Display details of user"
   ]
  },
  {
   "cell_type": "code",
   "execution_count": 11,
   "id": "37a49456",
   "metadata": {},
   "outputs": [
    {
     "name": "stdout",
     "output_type": "stream",
     "text": [
      "\n",
      "    1.Open New Account\n",
      "    2.deposit account\n",
      "    3.withdraw amount\n",
      "    4.balance check\n",
      "    5.display details of user\n",
      "    6.close an account\n",
      "    \n",
      "Enter Task number: 5\n",
      "Enter account no:2001554683\n",
      "2001554683 Varun 700 \n",
      "    1.Open New Account\n",
      "    2.deposit account\n",
      "    3.withdraw amount\n",
      "    4.balance check\n",
      "    5.display details of user\n",
      "    6.close an account\n",
      "    \n",
      "Enter Task number: 7\n",
      "Give Wrong input please enter right input\n"
     ]
    }
   ],
   "source": [
    "program()"
   ]
  },
  {
   "cell_type": "markdown",
   "id": "2fc14553",
   "metadata": {},
   "source": [
    "#### Close account"
   ]
  },
  {
   "cell_type": "code",
   "execution_count": 12,
   "id": "98a9e2a4",
   "metadata": {},
   "outputs": [
    {
     "name": "stdout",
     "output_type": "stream",
     "text": [
      "\n",
      "    1.Open New Account\n",
      "    2.deposit account\n",
      "    3.withdraw amount\n",
      "    4.balance check\n",
      "    5.display details of user\n",
      "    6.close an account\n",
      "    \n",
      "Enter Task number: 6\n",
      "Enter account no:2001554683\n",
      "\n",
      "    1.Open New Account\n",
      "    2.deposit account\n",
      "    3.withdraw amount\n",
      "    4.balance check\n",
      "    5.display details of user\n",
      "    6.close an account\n",
      "    \n",
      "Enter Task number: 7\n",
      "Give Wrong input please enter right input\n"
     ]
    }
   ],
   "source": [
    "program()"
   ]
  },
  {
   "cell_type": "markdown",
   "id": "64c77be5",
   "metadata": {},
   "source": [
    "#### show result after close account"
   ]
  },
  {
   "cell_type": "code",
   "execution_count": 14,
   "id": "4d0d2657",
   "metadata": {},
   "outputs": [
    {
     "name": "stdout",
     "output_type": "stream",
     "text": [
      "('20013314562', 'Shubh', 2000)\n",
      "('20013345678', 'Ujjwal', 2500)\n",
      "('4022678956', 'Sauhard', 1000)\n",
      "('4022685943', 'Raman', 1000)\n",
      "('4022788734', 'Rohan', 0)\n"
     ]
    }
   ],
   "source": [
    "cursor.execute(\"select * from bank_balance\")\n",
    "for i in cursor:\n",
    "    print(i)"
   ]
  }
 ],
 "metadata": {
  "kernelspec": {
   "display_name": "Python 3 (ipykernel)",
   "language": "python",
   "name": "python3"
  },
  "language_info": {
   "codemirror_mode": {
    "name": "ipython",
    "version": 3
   },
   "file_extension": ".py",
   "mimetype": "text/x-python",
   "name": "python",
   "nbconvert_exporter": "python",
   "pygments_lexer": "ipython3",
   "version": "3.9.7"
  }
 },
 "nbformat": 4,
 "nbformat_minor": 5
}
